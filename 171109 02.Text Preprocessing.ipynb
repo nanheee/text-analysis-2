{
 "cells": [
  {
   "cell_type": "markdown",
   "metadata": {},
   "source": [
    "# 데이터 전처리\n",
    "\n",
    "## 영화 'The Dark Knight' 리뷰 데이터 전처리"
   ]
  },
  {
   "cell_type": "code",
   "execution_count": 8,
   "metadata": {
    "collapsed": true
   },
   "outputs": [],
   "source": [
    "import nltk                                    # 텍스트 분석을 위해 nltk 모듈을 불러온다\n",
    "from nltk.corpus import stopwords              # nltk 모듈에서 Stopwords를 직접 불러온다"
   ]
  },
  {
   "cell_type": "code",
   "execution_count": 9,
   "metadata": {
    "collapsed": true
   },
   "outputs": [],
   "source": [
    "# nltk의 WordNetLemmatizer를 불러와 lemmatizer 변수에 저장한다\n",
    "lemmatizer = nltk.wordnet.WordNetLemmatizer()  \n",
    "stopWords = stopwords.words('english')         # 영어의 stopwords를 불러와 변수에 저장한다"
   ]
  },
  {
   "cell_type": "code",
   "execution_count": 10,
   "metadata": {
    "collapsed": true
   },
   "outputs": [],
   "source": [
    "# open 함수를 통해 'thedarkknight.txt' 파일을 열고 이를 f로 지정한다\n",
    "\n",
    "with open('thedarkknight.txt', 'r', encoding = 'utf-8') as f:\n",
    "    lines = f.readlines()\n",
    "    f.close()\n",
    "    \n",
    "reviewProcessedList = []                                     # 처리된 결과를 담기 위한 리스트를 생성한다"
   ]
  },
  {
   "cell_type": "code",
   "execution_count": 11,
   "metadata": {
    "collapsed": true
   },
   "outputs": [],
   "source": [
    "# for문을 통해 각 줄을 전처리한다\n",
    "\n",
    "for line in lines:\n",
    "    reviewProcessed = ''                                # 한 줄을 전처리한 결과를 담기 위한 String 변수 생성\n",
    "    tokens = nltk.word_tokenize(line)                   # 리뷰를 tokenize한다\n",
    "    for token in tokens:\n",
    "        if token.lower() not in stopWords:              # 소문자로 변환한 token이 stopwords에 없으면:\n",
    "            reviewProcessed += ' ' + lemmatizer.lemmatize(token)    # lemmatize한 붙인다\n",
    "    reviewProcessedList.append(reviewProcessed)         # 전처리가 끝난 리뷰를 리스트에 첨부한다"
   ]
  },
  {
   "cell_type": "code",
   "execution_count": 12,
   "metadata": {
    "collapsed": true
   },
   "outputs": [],
   "source": [
    "# open 함수를 통해 're-thedarkknight.txt' 파일을 열고 이를 f로 지정한다\n",
    "\n",
    "with open('re-thedarkknight.txt', 'w', encoding = 'utf-8') as f:\n",
    "    for reviewProcessed in reviewProcessedList:\n",
    "        f.write(reviewProcessed + '\\n')\n",
    "    f.close()"
   ]
  },
  {
   "cell_type": "code",
   "execution_count": null,
   "metadata": {
    "collapsed": true
   },
   "outputs": [],
   "source": []
  }
 ],
 "metadata": {
  "kernelspec": {
   "display_name": "Python 3",
   "language": "python",
   "name": "python3"
  },
  "language_info": {
   "codemirror_mode": {
    "name": "ipython",
    "version": 3
   },
   "file_extension": ".py",
   "mimetype": "text/x-python",
   "name": "python",
   "nbconvert_exporter": "python",
   "pygments_lexer": "ipython3",
   "version": "3.6.1"
  }
 },
 "nbformat": 4,
 "nbformat_minor": 2
}
