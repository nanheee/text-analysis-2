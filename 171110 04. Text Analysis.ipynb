{
 "cells": [
  {
   "cell_type": "markdown",
   "metadata": {
    "collapsed": true
   },
   "source": [
    "# Text Analysis\n",
    "\n",
    "## 두 영화 리뷰 간 유사성 계산하기"
   ]
  },
  {
   "cell_type": "code",
   "execution_count": 1,
   "metadata": {
    "collapsed": true
   },
   "outputs": [],
   "source": [
    "# 영화 'inception' 리뷰 웹 크롤링 하기\n",
    "\n",
    "from bs4 import BeautifulSoup\n",
    "from urllib.request import urlopen\n",
    "\n",
    "baseURL = 'http://www.imdb.com/title/tt1375666/reviews?start='\n",
    "web = urlopen(baseURL + '0')\n",
    "source = BeautifulSoup(web, 'html.parser')\n",
    "table = source.find('div', {'id': 'tn15content'})\n",
    "\n",
    "page_no = 10\n",
    "reviewList = []\n",
    "status = True\n",
    "i = 0"
   ]
  },
  {
   "cell_type": "code",
   "execution_count": 2,
   "metadata": {
    "collapsed": true
   },
   "outputs": [],
   "source": [
    "while status:\n",
    "    url = baseURL + str(i)\n",
    "    web = urlopen(url) \n",
    "    source = BeautifulSoup(web, 'html.parser')\n",
    "    table = source.find('div', {'id': 'tn15content'})\n",
    "    pars = table.findAll('p')\n",
    "    \n",
    "    for par in pars:\n",
    "        text = par.get_text().replace('\\n', ' ').replace('\\r', ' ')\n",
    "        if ('This review may contain spoilers' not in text) and ('Add another review' not in text):\n",
    "            reviewList.append(text)\n",
    "    i += 10\n",
    "    if i >= page_no * 10:\n",
    "        status = False"
   ]
  },
  {
   "cell_type": "code",
   "execution_count": 3,
   "metadata": {
    "collapsed": true
   },
   "outputs": [],
   "source": [
    "with open('inception.txt', 'w', encoding = 'utf-8') as f:\n",
    "    for review in reviewList:            \n",
    "        f.write(review + '\\n')\n",
    "    f.close() "
   ]
  },
  {
   "cell_type": "code",
   "execution_count": 4,
   "metadata": {
    "collapsed": true
   },
   "outputs": [],
   "source": [
    "# 유사도 분석에 필요한 패키지를 불러온다\n",
    "\n",
    "from sklearn.feature_extraction.text import TfidfVectorizer\n",
    "from sklearn.metrics.pairwise import cosine_similarity"
   ]
  },
  {
   "cell_type": "code",
   "execution_count": 5,
   "metadata": {
    "collapsed": true
   },
   "outputs": [],
   "source": [
    "# 다크나이트 리뷰 데이터 파일을 불러온다\n",
    "with open('re-thedarkknight.txt', 'r', encoding = 'utf-8') as f:\n",
    "    doc1 = ''\n",
    "    lines = f.readlines()\n",
    "    for line in lines:\n",
    "        doc1 += line\n",
    "    f.close()\n",
    "    \n",
    "# 인셉션 리뷰 데이터 파일을 불러온다\n",
    "with open('inception.txt', 'r', encoding= 'utf-8') as f:\n",
    "    doc2 = ''\n",
    "    lines = f.readlines()\n",
    "    for line in lines:\n",
    "        doc2 += line\n",
    "    f.close()"
   ]
  },
  {
   "cell_type": "code",
   "execution_count": 6,
   "metadata": {
    "collapsed": true
   },
   "outputs": [],
   "source": [
    "corpus = [doc1, doc2]                            # doc1, doc2를 합쳐 corpus list를 생성\n",
    "vectorizer = TfidfVectorizer()                   # TfidfVectorizer() 변수 생성\n",
    "X = (vectorizer.fit_transform(corpus)).todense() # fit_transform()를 통해 corpus의 텍스트 데이터를 벡터화해 X에 저장하고 \n",
    "                                                 # X를 dense한 matrix로 변환"
   ]
  },
  {
   "cell_type": "code",
   "execution_count": 7,
   "metadata": {},
   "outputs": [
    {
     "name": "stdout",
     "output_type": "stream",
     "text": [
      "Similarity between 'The Dark Knight' and 'Inception':  [[ 0.20761274]]\n"
     ]
    }
   ],
   "source": [
    "# 다크 나이트과 인셉션 간의 cosine similarity 계산\n",
    "print(\"Similarity between 'The Dark Knight' and 'Inception': \", cosine_similarity(X[0], X[1]))"
   ]
  },
  {
   "cell_type": "code",
   "execution_count": null,
   "metadata": {
    "collapsed": true
   },
   "outputs": [],
   "source": []
  }
 ],
 "metadata": {
  "kernelspec": {
   "display_name": "Python 3",
   "language": "python",
   "name": "python3"
  },
  "language_info": {
   "codemirror_mode": {
    "name": "ipython",
    "version": 3
   },
   "file_extension": ".py",
   "mimetype": "text/x-python",
   "name": "python",
   "nbconvert_exporter": "python",
   "pygments_lexer": "ipython3",
   "version": "3.6.1"
  }
 },
 "nbformat": 4,
 "nbformat_minor": 2
}
