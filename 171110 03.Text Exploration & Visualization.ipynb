{
 "cells": [
  {
   "cell_type": "markdown",
   "metadata": {},
   "source": [
    "## 리뷰에서 많이 등장하는 명사 추출"
   ]
  },
  {
   "cell_type": "code",
   "execution_count": 1,
   "metadata": {
    "collapsed": true
   },
   "outputs": [],
   "source": [
    "import nltk                             # 텍스트 분석을 위해 nltk 모듈을 불러온다\n",
    "from collections import Counter         # collections 패키지로부터 Counter를 불러온다"
   ]
  },
  {
   "cell_type": "code",
   "execution_count": 2,
   "metadata": {
    "collapsed": true
   },
   "outputs": [],
   "source": [
    "# 명사를 담기 위한 리스트를 생성한다\n",
    "\n",
    "nounList = []"
   ]
  },
  {
   "cell_type": "code",
   "execution_count": 4,
   "metadata": {},
   "outputs": [],
   "source": [
    "# open 함수를 통해 're-thedarkknight.txt' 파일을 열고 이를 f로 지정한다\n",
    "\n",
    "with open('re-thedarkknight.txt', 'r', encoding = 'utf-8') as f:\n",
    "    lines = f.readlines()\n",
    "    f.close()\n",
    "    \n",
    "for line in lines:                                       # for문을 통해 각 줄에 접근한다:\n",
    "    tokens = nltk.word_tokenize(line)                    # 각 줄을 tokenize한다\n",
    "    tags = nltk.pos_tag(tokens)                          # tokenize한 결과를 품사 태깅한다\n",
    "    for word, tag in tags:                               # for 문을 통해 각각의 (단어, 태그) 쌍에 접근\n",
    "        if tag in ['NN', 'NNS', 'NNP', 'NNPS']:          # 만약 태그가 명사이면:\n",
    "            nounList.append(word.lower())                # 소문자로 변환한 후 리스트에 첨부한다"
   ]
  },
  {
   "cell_type": "code",
   "execution_count": 5,
   "metadata": {},
   "outputs": [
    {
     "name": "stdout",
     "output_type": "stream",
     "text": [
      "[('movie', 405), ('batman', 328), ('film', 288), ('joker', 222), ('dark', 139), ('ledger', 133), ('knight', 128), ('time', 108), ('heath', 108), ('action', 89)]\n"
     ]
    }
   ],
   "source": [
    "counts = Counter(nounList)                               # 각 명사의 숫자를 센 결과를 변수에 저장한다\n",
    "print(counts.most_common(10))                            # 가장 흔히 등장하는 10개 명사를 출력한다"
   ]
  },
  {
   "cell_type": "markdown",
   "metadata": {},
   "source": [
    "## 리뷰에서 많이 등장하는 형용사 추출 "
   ]
  },
  {
   "cell_type": "code",
   "execution_count": 6,
   "metadata": {
    "collapsed": true
   },
   "outputs": [],
   "source": [
    "import nltk\n",
    "from collections import Counter"
   ]
  },
  {
   "cell_type": "code",
   "execution_count": 7,
   "metadata": {
    "collapsed": true
   },
   "outputs": [],
   "source": [
    "adjList = []"
   ]
  },
  {
   "cell_type": "code",
   "execution_count": 9,
   "metadata": {},
   "outputs": [],
   "source": [
    "with open('re-thedarkknight.txt', 'r', encoding = 'utf-8') as f:\n",
    "    lines = f.readlines()\n",
    "    f.close()\n",
    "    \n",
    "for line in lines:\n",
    "    tokens = nltk.word_tokenize(line)\n",
    "    tags = nltk.pos_tag(tokens)\n",
    "    for word, tag in tags:\n",
    "        if tag in ['JJ', 'JJR', 'JS']:\n",
    "            adjList.append(word.lower())"
   ]
  },
  {
   "cell_type": "code",
   "execution_count": 10,
   "metadata": {},
   "outputs": [
    {
     "name": "stdout",
     "output_type": "stream",
     "text": [
      "[('good', 139), ('great', 77), ('much', 57), ('many', 52), ('comic', 45), ('real', 37), ('bad', 30), ('little', 29), ('new', 27), ('christian', 26)]\n"
     ]
    }
   ],
   "source": [
    "counts = Counter(adjList)\n",
    "print(counts.most_common(10))"
   ]
  },
  {
   "cell_type": "markdown",
   "metadata": {},
   "source": [
    "## 전체 리뷰의 토큰 개수 탐색"
   ]
  },
  {
   "cell_type": "code",
   "execution_count": 11,
   "metadata": {
    "collapsed": true
   },
   "outputs": [],
   "source": [
    "import nltk                               # 텍스트 분석을 위해 nltk 모듈을 불러온다\n",
    "from nltk.corpus import stopwords         # nltk 모듈에서 Stopwords를 직접 불러온다"
   ]
  },
  {
   "cell_type": "code",
   "execution_count": 12,
   "metadata": {
    "collapsed": true
   },
   "outputs": [],
   "source": [
    "# 영어의 stopwords를 불러와 변수에 저장한다\n",
    "\n",
    "stopWords = set(stopwords.words('english'))"
   ]
  },
  {
   "cell_type": "code",
   "execution_count": 13,
   "metadata": {
    "collapsed": true
   },
   "outputs": [],
   "source": [
    "with open('result-1-3-4.txt', 'r', encoding = 'utf-8') as f:\n",
    "    lines = f.readlines()\n",
    "    f.close()"
   ]
  },
  {
   "cell_type": "code",
   "execution_count": 14,
   "metadata": {
    "collapsed": true
   },
   "outputs": [],
   "source": [
    "tokens = []                                         # token을 담기 위한 리스트를 생성한다\n",
    "for line in lines:                                  # for문을 통해 각각의 줄에 접근한다:\n",
    "    line = nltk.word_tokenize(line.lower())         # 각 라인을 소문자로 변환한 후 tokenize한다\n",
    "    for word in line:                               # 라인의 각 token에 for문을 통해 접근한다:\n",
    "        if word not in stopWords:                   # 만약 token이 stopword가 아니면:\n",
    "            tokens.append(word)                     # 리스트에 첨부한다"
   ]
  },
  {
   "cell_type": "code",
   "execution_count": 15,
   "metadata": {},
   "outputs": [
    {
     "name": "stdout",
     "output_type": "stream",
     "text": [
      "21186\n",
      "4660\n"
     ]
    }
   ],
   "source": [
    "corpus = nltk.Text(tokens)                          # Text() 객체를 corpus 변수에 저장한다\n",
    "\n",
    "print(len(corpus.tokens))                           # 전체 token의 개수를 출력한다\n",
    "print(len(set(corpus.tokens)))                      # unique한 token의 개수를 출력한다"
   ]
  },
  {
   "cell_type": "markdown",
   "metadata": {},
   "source": [
    "## 토큰의 등장 횟수 시각화"
   ]
  },
  {
   "cell_type": "code",
   "execution_count": 16,
   "metadata": {},
   "outputs": [
    {
     "data": {
      "image/png": "[encoded data removed]",
      "text/plain": [
       "<matplotlib.figure.Figure at 0x10fdd8cc0>"
      ]
     },
     "metadata": {},
     "output_type": "display_data"
    }
   ],
   "source": [
    "# 가장 많이 등장하는 50개 단어의 빈도수를 그래프로 표현해 출력한다\n",
    "corpus.plot(50)"
   ]
  },
  {
   "cell_type": "markdown",
   "metadata": {},
   "source": [
    "## 문맥상 유사한 단어 출력"
   ]
  },
  {
   "cell_type": "code",
   "execution_count": 18,
   "metadata": {},
   "outputs": [
    {
     "name": "stdout",
     "output_type": "stream",
     "text": [
      "==================================================\n",
      "Similar words with Batman: \n",
      "superhero film action good better seen one movie actors character\n",
      "heath performance modern difficult villain second end films best\n",
      "iconic\n",
      "==================================================\n",
      "Similar words with Joker: \n",
      "time jack fan would watch dramas\n",
      "==================================================\n"
     ]
    }
   ],
   "source": [
    "# 'Batman'과 'Joker'와 유사한 단어를 출력한다\n",
    "\n",
    "print('='*50)\n",
    "print('Similar words with Batman: ')\n",
    "corpus.similar('Batman')                      #'Batman'과 유사한 단어를 출력한다\n",
    "print('='*50)\n",
    "print('Similar words with Joker: ')\n",
    "corpus.similar('Joker')                       # 'Joker'와 유사한 단어를 출력한다\n",
    "print('='*50)"
   ]
  },
  {
   "cell_type": "markdown",
   "metadata": {},
   "source": [
    "## 텍스트의 연어(collocation) 출력 "
   ]
  },
  {
   "cell_type": "code",
   "execution_count": 19,
   "metadata": {},
   "outputs": [
    {
     "name": "stdout",
     "output_type": "stream",
     "text": [
      "Collocations for reviews of \"The Dark Knight\": \n",
      "dark knight; heath ledger; christian bale; comic book; harvey dent;\n",
      "christopher nolan; bruce wayne; aaron eckhart; morgan freeman; gary\n",
      "oldman; batman begins; gotham city; maggie gyllenhaal; two face;\n",
      "michael caine; special effects; rachel dawes; district attorney; jack\n",
      "nicholson; 've seen\n"
     ]
    }
   ],
   "source": [
    "print('Collocations for reviews of \"The Dark Knight\": ')\n",
    "corpus.collocations()                                    # 다크 나이트 영화 리뷰의 연어를 출력한다"
   ]
  },
  {
   "cell_type": "code",
   "execution_count": null,
   "metadata": {
    "collapsed": true
   },
   "outputs": [],
   "source": []
  }
 ],
 "metadata": {
  "kernelspec": {
   "display_name": "Python 3",
   "language": "python",
   "name": "python3"
  },
  "language_info": {
   "codemirror_mode": {
    "name": "ipython",
    "version": 3
   },
   "file_extension": ".py",
   "mimetype": "text/x-python",
   "name": "python",
   "nbconvert_exporter": "python",
   "pygments_lexer": "ipython3",
   "version": "3.6.1"
  }
 },
 "nbformat": 4,
 "nbformat_minor": 2
}
