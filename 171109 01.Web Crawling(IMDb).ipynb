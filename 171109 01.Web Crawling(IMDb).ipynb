{
 "cells": [
  {
   "cell_type": "markdown",
   "metadata": {},
   "source": [
    "# Web Crawling\n",
    "\n",
    "### IMDb 사이트에서 영화 리뷰를 웹 크롤링 "
   ]
  },
  {
   "cell_type": "code",
   "execution_count": 1,
   "metadata": {
    "collapsed": true
   },
   "outputs": [],
   "source": [
    "# 웹 크롤링에 필요한 모듈 불러오기\n",
    "\n",
    "from bs4 import BeautifulSoup\n",
    "from urllib.request import urlopen"
   ]
  },
  {
   "cell_type": "code",
   "execution_count": 2,
   "metadata": {
    "collapsed": true
   },
   "outputs": [],
   "source": [
    "# 시작 URL을 입력한다. (영화 'The Dark Knight')\n",
    "\n",
    "baseURL = 'http://www.imdb.com/title/tt0468569/reviews?start='"
   ]
  },
  {
   "cell_type": "code",
   "execution_count": 3,
   "metadata": {
    "collapsed": true
   },
   "outputs": [],
   "source": [
    "# urlopen 함수를 통해 web 변수를 생성('0'을 더해 첫 번째 리뷰부터 시작함을 알려준다)\n",
    "\n",
    "web = urlopen(baseURL + '0')"
   ]
  },
  {
   "cell_type": "code",
   "execution_count": 4,
   "metadata": {
    "collapsed": true
   },
   "outputs": [],
   "source": [
    "# BeautifulSoup으로 web 페이지상의 HTML 구조를 파싱\n",
    "\n",
    "source = BeautifulSoup(web, 'html.parser')"
   ]
  },
  {
   "cell_type": "code",
   "execution_count": 5,
   "metadata": {
    "collapsed": true
   },
   "outputs": [],
   "source": [
    "# 리뷰 데이터가 있는 테이블을 찾는다\n",
    "\n",
    "table = source.find('div', {'id': 'tn15content'})"
   ]
  },
  {
   "cell_type": "code",
   "execution_count": 6,
   "metadata": {
    "collapsed": true
   },
   "outputs": [],
   "source": [
    "page_no = 10        # 출력하고자 하는 총 페이지 개수를 입력\n",
    "reviewList = []     # 리뷰 내용을 담고자 하는 리스트를 생성\n",
    "status = True       # while문을 탈출하기 위한 조건을 설정하는 status 변수 생성\n",
    "i = 0               # 현재 크롤링한 리뷰 수를 기록하기 위한 i 변수 생성"
   ]
  },
  {
   "cell_type": "code",
   "execution_count": 7,
   "metadata": {
    "collapsed": true
   },
   "outputs": [],
   "source": [
    "# while문을 통해 10 번째 페이지까지의 리뷰를 크롤링한다\n",
    "\n",
    "while status:\n",
    "    url = baseURL + str(i)                              # 시작 URL에 i를 더해 크롤링하고자 하는 페이지를 입력한다\n",
    "    web = urlopen(url)                                  # urlopen 함수를 통해 web 변수를 생성 \n",
    "    source = BeautifulSoup(web, 'html.parser')          # BeautifulSoup으로 web 페이지상의 HTML 구조를 파싱\n",
    "    table = source.find('div', {'id': 'tn15content'})   # 리뷰 데이터가 있는 테이블을 찾는다\n",
    "    \n",
    "    pars = table.findAll('p')                           # 테이블 내의 모든 paragraph('p')를 찾아 리스트에 저장한다   \n",
    "\n",
    "    # 각각의 paragraph의 내용을 저장한다\n",
    "    for par in pars:\n",
    "        text = par.get_text().replace('\\n', ' ').replace('\\r', ' ')\n",
    "        # 리뷰일 경우에만 저장하기 위해 if 조건문을 활용한다\n",
    "        if ('This review may contain spoilers' not in text) and ('Add another review' not in text):\n",
    "            reviewList.append(text)\n",
    "    i += 10                                         # 하나의 페이지를 크롤링할때마다 i를 10씩 증가시킨다\n",
    "    if i >= page_no * 10:                           # 만약 현재 크롤링한 페이지 개수가 10을 넘어가면:\n",
    "        status = False                              # while문을 탈출한다"
   ]
  },
  {
   "cell_type": "code",
   "execution_count": 8,
   "metadata": {
    "collapsed": true
   },
   "outputs": [],
   "source": [
    "# open 함수를 통해 'thedarkknight.txt' 파일을 열고 이를 f로 지정한다\n",
    "\n",
    "with open('thedarkknight.txt', 'w', encoding = 'utf-8') as f:        # 쓰기 형식('w')로 지정하고 인코딩은 'utf-8'로 설정한다\n",
    "    for review in reviewList:                                       # for문을 통해 reviewList의 각각의 리뷰를 파일에 쓴다\n",
    "        f.write(review + '\\n')\n",
    "    f.close()                                                       # 파일을 닫는다"
   ]
  },
  {
   "cell_type": "code",
   "execution_count": null,
   "metadata": {
    "collapsed": true
   },
   "outputs": [],
   "source": []
  }
 ],
 "metadata": {
  "kernelspec": {
   "display_name": "Python 3",
   "language": "python",
   "name": "python3"
  },
  "language_info": {
   "codemirror_mode": {
    "name": "ipython",
    "version": 3
   },
   "file_extension": ".py",
   "mimetype": "text/x-python",
   "name": "python",
   "nbconvert_exporter": "python",
   "pygments_lexer": "ipython3",
   "version": "3.6.1"
  }
 },
 "nbformat": 4,
 "nbformat_minor": 2
}
